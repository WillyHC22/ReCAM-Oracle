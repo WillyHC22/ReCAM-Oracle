{
 "cells": [
  {
   "cell_type": "code",
   "execution_count": 14,
   "id": "25c26615-e0cf-43d6-b412-0d19368ec73b",
   "metadata": {
    "collapsed": true,
    "jupyter": {
     "outputs_hidden": true
    },
    "tags": []
   },
   "outputs": [
    {
     "name": "stdout",
     "output_type": "stream",
     "text": [
      "Requirement already satisfied: pywsd in /home/willy/miniconda3/envs/recam/lib/python3.8/site-packages (1.2.4)\n",
      "Requirement already satisfied: pandas in /home/willy/miniconda3/envs/recam/lib/python3.8/site-packages (from pywsd) (1.3.4)\n",
      "Requirement already satisfied: nltk in /home/willy/miniconda3/envs/recam/lib/python3.8/site-packages (from pywsd) (3.6.5)\n",
      "Requirement already satisfied: six in /home/willy/miniconda3/envs/recam/lib/python3.8/site-packages (from pywsd) (1.16.0)\n",
      "Requirement already satisfied: wn in /home/willy/miniconda3/envs/recam/lib/python3.8/site-packages (from pywsd) (0.0.22)\n",
      "Requirement already satisfied: numpy in /home/willy/miniconda3/envs/recam/lib/python3.8/site-packages (from pywsd) (1.21.2)\n",
      "Requirement already satisfied: joblib in /home/willy/miniconda3/envs/recam/lib/python3.8/site-packages (from nltk->pywsd) (1.1.0)\n",
      "Requirement already satisfied: tqdm in /home/willy/miniconda3/envs/recam/lib/python3.8/site-packages (from nltk->pywsd) (4.62.3)\n",
      "Requirement already satisfied: click in /home/willy/miniconda3/envs/recam/lib/python3.8/site-packages (from nltk->pywsd) (8.0.3)\n",
      "Requirement already satisfied: regex>=2021.8.3 in /home/willy/miniconda3/envs/recam/lib/python3.8/site-packages (from nltk->pywsd) (2021.10.23)\n",
      "Requirement already satisfied: python-dateutil>=2.7.3 in /home/willy/miniconda3/envs/recam/lib/python3.8/site-packages (from pandas->pywsd) (2.8.2)\n",
      "Requirement already satisfied: pytz>=2017.3 in /home/willy/miniconda3/envs/recam/lib/python3.8/site-packages (from pandas->pywsd) (2021.3)\n",
      "Requirement already satisfied: wn==0.0.22 in /home/willy/miniconda3/envs/recam/lib/python3.8/site-packages (0.0.22)\n",
      "Requirement already satisfied: datasets in /home/willy/miniconda3/envs/recam/lib/python3.8/site-packages (1.14.0)\n",
      "Requirement already satisfied: multiprocess in /home/willy/miniconda3/envs/recam/lib/python3.8/site-packages (from datasets) (0.70.12.2)\n",
      "Requirement already satisfied: xxhash in /home/willy/miniconda3/envs/recam/lib/python3.8/site-packages (from datasets) (2.0.2)\n",
      "Requirement already satisfied: dill in /home/willy/miniconda3/envs/recam/lib/python3.8/site-packages (from datasets) (0.3.4)\n",
      "Requirement already satisfied: numpy>=1.17 in /home/willy/miniconda3/envs/recam/lib/python3.8/site-packages (from datasets) (1.21.2)\n",
      "Requirement already satisfied: requests>=2.19.0 in /home/willy/miniconda3/envs/recam/lib/python3.8/site-packages (from datasets) (2.26.0)\n",
      "Requirement already satisfied: aiohttp in /home/willy/miniconda3/envs/recam/lib/python3.8/site-packages (from datasets) (3.7.4.post0)\n",
      "Requirement already satisfied: tqdm>=4.62.1 in /home/willy/miniconda3/envs/recam/lib/python3.8/site-packages (from datasets) (4.62.3)\n",
      "Requirement already satisfied: huggingface-hub<0.1.0,>=0.0.19 in /home/willy/miniconda3/envs/recam/lib/python3.8/site-packages (from datasets) (0.0.19)\n",
      "Requirement already satisfied: fsspec[http]>=2021.05.0 in /home/willy/miniconda3/envs/recam/lib/python3.8/site-packages (from datasets) (2021.10.1)\n",
      "Requirement already satisfied: pyarrow!=4.0.0,>=1.0.0 in /home/willy/miniconda3/envs/recam/lib/python3.8/site-packages (from datasets) (6.0.0)\n",
      "Requirement already satisfied: pandas in /home/willy/miniconda3/envs/recam/lib/python3.8/site-packages (from datasets) (1.3.4)\n",
      "Requirement already satisfied: packaging in /home/willy/miniconda3/envs/recam/lib/python3.8/site-packages (from datasets) (21.0)\n",
      "Requirement already satisfied: filelock in /home/willy/miniconda3/envs/recam/lib/python3.8/site-packages (from huggingface-hub<0.1.0,>=0.0.19->datasets) (3.3.1)\n",
      "Requirement already satisfied: pyyaml in /home/willy/miniconda3/envs/recam/lib/python3.8/site-packages (from huggingface-hub<0.1.0,>=0.0.19->datasets) (6.0)\n",
      "Requirement already satisfied: typing-extensions in /home/willy/miniconda3/envs/recam/lib/python3.8/site-packages (from huggingface-hub<0.1.0,>=0.0.19->datasets) (3.10.0.2)\n",
      "Requirement already satisfied: pyparsing>=2.0.2 in /home/willy/miniconda3/envs/recam/lib/python3.8/site-packages (from packaging->datasets) (3.0.3)\n",
      "Requirement already satisfied: certifi>=2017.4.17 in /home/willy/miniconda3/envs/recam/lib/python3.8/site-packages (from requests>=2.19.0->datasets) (2021.10.8)\n",
      "Requirement already satisfied: idna<4,>=2.5 in /home/willy/miniconda3/envs/recam/lib/python3.8/site-packages (from requests>=2.19.0->datasets) (3.3)\n",
      "Requirement already satisfied: charset-normalizer~=2.0.0 in /home/willy/miniconda3/envs/recam/lib/python3.8/site-packages (from requests>=2.19.0->datasets) (2.0.7)\n",
      "Requirement already satisfied: urllib3<1.27,>=1.21.1 in /home/willy/miniconda3/envs/recam/lib/python3.8/site-packages (from requests>=2.19.0->datasets) (1.26.7)\n",
      "Requirement already satisfied: multidict<7.0,>=4.5 in /home/willy/miniconda3/envs/recam/lib/python3.8/site-packages (from aiohttp->datasets) (5.2.0)\n",
      "Requirement already satisfied: async-timeout<4.0,>=3.0 in /home/willy/miniconda3/envs/recam/lib/python3.8/site-packages (from aiohttp->datasets) (3.0.1)\n",
      "Requirement already satisfied: chardet<5.0,>=2.0 in /home/willy/miniconda3/envs/recam/lib/python3.8/site-packages (from aiohttp->datasets) (4.0.0)\n",
      "Requirement already satisfied: yarl<2.0,>=1.0 in /home/willy/miniconda3/envs/recam/lib/python3.8/site-packages (from aiohttp->datasets) (1.7.0)\n",
      "Requirement already satisfied: attrs>=17.3.0 in /home/willy/miniconda3/envs/recam/lib/python3.8/site-packages (from aiohttp->datasets) (21.2.0)\n",
      "Requirement already satisfied: python-dateutil>=2.7.3 in /home/willy/miniconda3/envs/recam/lib/python3.8/site-packages (from pandas->datasets) (2.8.2)\n",
      "Requirement already satisfied: pytz>=2017.3 in /home/willy/miniconda3/envs/recam/lib/python3.8/site-packages (from pandas->datasets) (2021.3)\n",
      "Requirement already satisfied: six>=1.5 in /home/willy/miniconda3/envs/recam/lib/python3.8/site-packages (from python-dateutil>=2.7.3->pandas->datasets) (1.16.0)\n",
      "Requirement already satisfied: scikit-learn in /home/willy/miniconda3/envs/recam/lib/python3.8/site-packages (1.0.1)\n",
      "Requirement already satisfied: scipy>=1.1.0 in /home/willy/miniconda3/envs/recam/lib/python3.8/site-packages (from scikit-learn) (1.7.1)\n",
      "Requirement already satisfied: numpy>=1.14.6 in /home/willy/miniconda3/envs/recam/lib/python3.8/site-packages (from scikit-learn) (1.21.2)\n",
      "Requirement already satisfied: threadpoolctl>=2.0.0 in /home/willy/miniconda3/envs/recam/lib/python3.8/site-packages (from scikit-learn) (3.0.0)\n",
      "Requirement already satisfied: joblib>=0.11 in /home/willy/miniconda3/envs/recam/lib/python3.8/site-packages (from scikit-learn) (1.1.0)\n",
      "Collecting ipywidgets\n",
      "  Downloading ipywidgets-7.6.5-py2.py3-none-any.whl (121 kB)\n",
      "\u001b[K     |████████████████████████████████| 121 kB 17.2 MB/s eta 0:00:01\n",
      "\u001b[?25hRequirement already satisfied: nbformat>=4.2.0 in /home/willy/miniconda3/envs/recam/lib/python3.8/site-packages (from ipywidgets) (5.1.3)\n",
      "Requirement already satisfied: ipython-genutils~=0.2.0 in /home/willy/miniconda3/envs/recam/lib/python3.8/site-packages (from ipywidgets) (0.2.0)\n",
      "Collecting widgetsnbextension~=3.5.0\n",
      "  Downloading widgetsnbextension-3.5.1-py2.py3-none-any.whl (2.2 MB)\n",
      "\u001b[K     |████████████████████████████████| 2.2 MB 58.5 MB/s eta 0:00:01\n",
      "\u001b[?25hRequirement already satisfied: traitlets>=4.3.1 in /home/willy/miniconda3/envs/recam/lib/python3.8/site-packages (from ipywidgets) (5.1.1)\n",
      "Requirement already satisfied: ipykernel>=4.5.1 in /home/willy/miniconda3/envs/recam/lib/python3.8/site-packages (from ipywidgets) (6.4.2)\n",
      "Requirement already satisfied: ipython>=4.0.0 in /home/willy/miniconda3/envs/recam/lib/python3.8/site-packages (from ipywidgets) (7.28.0)\n",
      "Collecting jupyterlab-widgets>=1.0.0\n",
      "  Downloading jupyterlab_widgets-1.0.2-py3-none-any.whl (243 kB)\n",
      "\u001b[K     |████████████████████████████████| 243 kB 54.8 MB/s eta 0:00:01\n",
      "\u001b[?25hRequirement already satisfied: debugpy<2.0,>=1.0.0 in /home/willy/miniconda3/envs/recam/lib/python3.8/site-packages (from ipykernel>=4.5.1->ipywidgets) (1.5.1)\n",
      "Requirement already satisfied: tornado<7.0,>=4.2 in /home/willy/miniconda3/envs/recam/lib/python3.8/site-packages (from ipykernel>=4.5.1->ipywidgets) (6.1)\n",
      "Requirement already satisfied: matplotlib-inline<0.2.0,>=0.1.0 in /home/willy/miniconda3/envs/recam/lib/python3.8/site-packages (from ipykernel>=4.5.1->ipywidgets) (0.1.3)\n",
      "Requirement already satisfied: jupyter-client<8.0 in /home/willy/miniconda3/envs/recam/lib/python3.8/site-packages (from ipykernel>=4.5.1->ipywidgets) (7.0.6)\n",
      "Requirement already satisfied: pickleshare in /home/willy/miniconda3/envs/recam/lib/python3.8/site-packages (from ipython>=4.0.0->ipywidgets) (0.7.5)\n",
      "Requirement already satisfied: decorator in /home/willy/miniconda3/envs/recam/lib/python3.8/site-packages (from ipython>=4.0.0->ipywidgets) (5.1.0)\n",
      "Requirement already satisfied: pygments in /home/willy/miniconda3/envs/recam/lib/python3.8/site-packages (from ipython>=4.0.0->ipywidgets) (2.10.0)\n",
      "Requirement already satisfied: backcall in /home/willy/miniconda3/envs/recam/lib/python3.8/site-packages (from ipython>=4.0.0->ipywidgets) (0.2.0)\n",
      "Requirement already satisfied: prompt-toolkit!=3.0.0,!=3.0.1,<3.1.0,>=2.0.0 in /home/willy/miniconda3/envs/recam/lib/python3.8/site-packages (from ipython>=4.0.0->ipywidgets) (3.0.21)\n",
      "Requirement already satisfied: setuptools>=18.5 in /home/willy/miniconda3/envs/recam/lib/python3.8/site-packages (from ipython>=4.0.0->ipywidgets) (58.0.4)\n",
      "Requirement already satisfied: jedi>=0.16 in /home/willy/miniconda3/envs/recam/lib/python3.8/site-packages (from ipython>=4.0.0->ipywidgets) (0.18.0)\n",
      "Requirement already satisfied: pexpect>4.3 in /home/willy/miniconda3/envs/recam/lib/python3.8/site-packages (from ipython>=4.0.0->ipywidgets) (4.8.0)\n",
      "Requirement already satisfied: parso<0.9.0,>=0.8.0 in /home/willy/miniconda3/envs/recam/lib/python3.8/site-packages (from jedi>=0.16->ipython>=4.0.0->ipywidgets) (0.8.2)\n",
      "Requirement already satisfied: python-dateutil>=2.1 in /home/willy/miniconda3/envs/recam/lib/python3.8/site-packages (from jupyter-client<8.0->ipykernel>=4.5.1->ipywidgets) (2.8.2)\n",
      "Requirement already satisfied: nest-asyncio>=1.5 in /home/willy/miniconda3/envs/recam/lib/python3.8/site-packages (from jupyter-client<8.0->ipykernel>=4.5.1->ipywidgets) (1.5.1)\n",
      "Requirement already satisfied: jupyter-core>=4.6.0 in /home/willy/miniconda3/envs/recam/lib/python3.8/site-packages (from jupyter-client<8.0->ipykernel>=4.5.1->ipywidgets) (4.9.1)\n",
      "Requirement already satisfied: entrypoints in /home/willy/miniconda3/envs/recam/lib/python3.8/site-packages (from jupyter-client<8.0->ipykernel>=4.5.1->ipywidgets) (0.3)\n",
      "Requirement already satisfied: pyzmq>=13 in /home/willy/miniconda3/envs/recam/lib/python3.8/site-packages (from jupyter-client<8.0->ipykernel>=4.5.1->ipywidgets) (22.3.0)\n",
      "Requirement already satisfied: jsonschema!=2.5.0,>=2.4 in /home/willy/miniconda3/envs/recam/lib/python3.8/site-packages (from nbformat>=4.2.0->ipywidgets) (4.1.2)\n",
      "Requirement already satisfied: attrs>=17.4.0 in /home/willy/miniconda3/envs/recam/lib/python3.8/site-packages (from jsonschema!=2.5.0,>=2.4->nbformat>=4.2.0->ipywidgets) (21.2.0)\n",
      "Requirement already satisfied: pyrsistent!=0.17.0,!=0.17.1,!=0.17.2,>=0.14.0 in /home/willy/miniconda3/envs/recam/lib/python3.8/site-packages (from jsonschema!=2.5.0,>=2.4->nbformat>=4.2.0->ipywidgets) (0.18.0)\n",
      "Requirement already satisfied: ptyprocess>=0.5 in /home/willy/miniconda3/envs/recam/lib/python3.8/site-packages (from pexpect>4.3->ipython>=4.0.0->ipywidgets) (0.7.0)\n",
      "Requirement already satisfied: wcwidth in /home/willy/miniconda3/envs/recam/lib/python3.8/site-packages (from prompt-toolkit!=3.0.0,!=3.0.1,<3.1.0,>=2.0.0->ipython>=4.0.0->ipywidgets) (0.2.5)\n",
      "Requirement already satisfied: six>=1.5 in /home/willy/miniconda3/envs/recam/lib/python3.8/site-packages (from python-dateutil>=2.1->jupyter-client<8.0->ipykernel>=4.5.1->ipywidgets) (1.16.0)\n",
      "Requirement already satisfied: notebook>=4.4.1 in /home/willy/miniconda3/envs/recam/lib/python3.8/site-packages (from widgetsnbextension~=3.5.0->ipywidgets) (6.4.5)\n",
      "Requirement already satisfied: terminado>=0.8.3 in /home/willy/miniconda3/envs/recam/lib/python3.8/site-packages (from notebook>=4.4.1->widgetsnbextension~=3.5.0->ipywidgets) (0.12.1)\n",
      "Requirement already satisfied: argon2-cffi in /home/willy/miniconda3/envs/recam/lib/python3.8/site-packages (from notebook>=4.4.1->widgetsnbextension~=3.5.0->ipywidgets) (21.1.0)\n",
      "Requirement already satisfied: prometheus-client in /home/willy/miniconda3/envs/recam/lib/python3.8/site-packages (from notebook>=4.4.1->widgetsnbextension~=3.5.0->ipywidgets) (0.11.0)\n",
      "Requirement already satisfied: nbconvert in /home/willy/miniconda3/envs/recam/lib/python3.8/site-packages (from notebook>=4.4.1->widgetsnbextension~=3.5.0->ipywidgets) (6.2.0)\n",
      "Requirement already satisfied: Send2Trash>=1.5.0 in /home/willy/miniconda3/envs/recam/lib/python3.8/site-packages (from notebook>=4.4.1->widgetsnbextension~=3.5.0->ipywidgets) (1.8.0)\n",
      "Requirement already satisfied: jinja2 in /home/willy/miniconda3/envs/recam/lib/python3.8/site-packages (from notebook>=4.4.1->widgetsnbextension~=3.5.0->ipywidgets) (3.0.2)\n",
      "Requirement already satisfied: cffi>=1.0.0 in /home/willy/miniconda3/envs/recam/lib/python3.8/site-packages (from argon2-cffi->notebook>=4.4.1->widgetsnbextension~=3.5.0->ipywidgets) (1.15.0)\n",
      "Requirement already satisfied: pycparser in /home/willy/miniconda3/envs/recam/lib/python3.8/site-packages (from cffi>=1.0.0->argon2-cffi->notebook>=4.4.1->widgetsnbextension~=3.5.0->ipywidgets) (2.20)\n",
      "Requirement already satisfied: MarkupSafe>=2.0 in /home/willy/miniconda3/envs/recam/lib/python3.8/site-packages (from jinja2->notebook>=4.4.1->widgetsnbextension~=3.5.0->ipywidgets) (2.0.1)\n",
      "Requirement already satisfied: jupyterlab-pygments in /home/willy/miniconda3/envs/recam/lib/python3.8/site-packages (from nbconvert->notebook>=4.4.1->widgetsnbextension~=3.5.0->ipywidgets) (0.1.2)\n",
      "Requirement already satisfied: testpath in /home/willy/miniconda3/envs/recam/lib/python3.8/site-packages (from nbconvert->notebook>=4.4.1->widgetsnbextension~=3.5.0->ipywidgets) (0.5.0)\n",
      "Requirement already satisfied: defusedxml in /home/willy/miniconda3/envs/recam/lib/python3.8/site-packages (from nbconvert->notebook>=4.4.1->widgetsnbextension~=3.5.0->ipywidgets) (0.7.1)\n",
      "Requirement already satisfied: bleach in /home/willy/miniconda3/envs/recam/lib/python3.8/site-packages (from nbconvert->notebook>=4.4.1->widgetsnbextension~=3.5.0->ipywidgets) (4.1.0)\n",
      "Requirement already satisfied: pandocfilters>=1.4.1 in /home/willy/miniconda3/envs/recam/lib/python3.8/site-packages (from nbconvert->notebook>=4.4.1->widgetsnbextension~=3.5.0->ipywidgets) (1.5.0)\n",
      "Requirement already satisfied: nbclient<0.6.0,>=0.5.0 in /home/willy/miniconda3/envs/recam/lib/python3.8/site-packages (from nbconvert->notebook>=4.4.1->widgetsnbextension~=3.5.0->ipywidgets) (0.5.4)\n",
      "Requirement already satisfied: mistune<2,>=0.8.1 in /home/willy/miniconda3/envs/recam/lib/python3.8/site-packages (from nbconvert->notebook>=4.4.1->widgetsnbextension~=3.5.0->ipywidgets) (0.8.4)\n",
      "Requirement already satisfied: webencodings in /home/willy/miniconda3/envs/recam/lib/python3.8/site-packages (from bleach->nbconvert->notebook>=4.4.1->widgetsnbextension~=3.5.0->ipywidgets) (0.5.1)\n",
      "Requirement already satisfied: packaging in /home/willy/miniconda3/envs/recam/lib/python3.8/site-packages (from bleach->nbconvert->notebook>=4.4.1->widgetsnbextension~=3.5.0->ipywidgets) (21.0)\n",
      "Requirement already satisfied: pyparsing>=2.0.2 in /home/willy/miniconda3/envs/recam/lib/python3.8/site-packages (from packaging->bleach->nbconvert->notebook>=4.4.1->widgetsnbextension~=3.5.0->ipywidgets) (3.0.3)\n",
      "Installing collected packages: widgetsnbextension, jupyterlab-widgets, ipywidgets\n",
      "Successfully installed ipywidgets-7.6.5 jupyterlab-widgets-1.0.2 widgetsnbextension-3.5.1\n"
     ]
    }
   ],
   "source": [
    "!pip install pywsd\n",
    "!pip install -U wn==0.0.22\n",
    "!pip install datasets\n",
    "!pip install scikit-learn\n",
    "!pip install ipywidgets"
   ]
  },
  {
   "cell_type": "code",
   "execution_count": 16,
   "id": "72abd372-4408-48cd-9f03-e7cb539bd2b3",
   "metadata": {},
   "outputs": [],
   "source": [
    "from find_golden import create_embedding_dict, NonSpecificity_Scorer\n",
    "from utils import filter_lemma, filter_similarity, filter_syn_ant\n",
    "from datasets import load_dataset\n",
    "from nltk.tokenize import word_tokenize\n",
    "from nltk import pos_tag\n"
   ]
  },
  {
   "cell_type": "code",
   "execution_count": 30,
   "id": "631ac2de-9937-4661-a197-53f67d6215f8",
   "metadata": {},
   "outputs": [],
   "source": [
    "def main(): \n",
    "    #Change dataset here to use something else\n",
    "    xsum = load_dataset('xsum', split='train')\n",
    "\n",
    "    #Create the embedding dict used for the similarity filter\n",
    "    embeddings_dict = create_embedding_dict(\"glove.6B.50d.txt\")\n",
    "\n",
    "    #If we want to process the whole dataset:\n",
    "    nb_summaries = len(xsum)\n",
    "    gold_answers = []\n",
    "    #nb_summaries = 100\n",
    "    no_ans = 0\n",
    "    one_ans = 0\n",
    "    more_than_one_ans = 0\n",
    "\n",
    "    for i in range(nb_summaries):\n",
    "        answers = []\n",
    "        summary_score = {}\n",
    "\n",
    "        #Change here if you use a dataset with another structure than xsum\n",
    "        passage = xsum[i][\"document\"]\n",
    "        summary = xsum[i][\"summary\"]\n",
    "        id_doc = xsum[i][\"id\"]\n",
    "        tokenized_passage = word_tokenize(passage)\n",
    "        tokenized_summary = word_tokenize(summary)\n",
    "        tagged_summary = pos_tag(tokenized_summary)\n",
    "        filtered1_answers, filtered2_answers, filtered3_answers = [], [], []\n",
    "\n",
    "        for word in tagged_summary:\n",
    "            tag = word[1]\n",
    "            #Keeping only noun and verbs for subtask 2\n",
    "            if tag == \"NN\" or tag == \"VB\":\n",
    "                score = NonSpecificity_Scorer(passage, summary, word[0])\n",
    "                #summary_score.append([word[0], score])\n",
    "                summary_score[word[0]] = score\n",
    "                #Filter on score\n",
    "                if score < 6:\n",
    "                    answers.append(word[0])\n",
    "                    filtered1_answers = filter_lemma(tokenized_passage, answers)\n",
    "                    filtered2_answers = filter_syn_ant(tokenized_passage, filtered1_answers)\n",
    "                    filtered3_answers = filter_similarity(embeddings_dict, tokenized_passage, filtered2_answers)\n",
    "\n",
    "        if len(filtered3_answers) == 0:\n",
    "            no_ans += 1\n",
    "            gold_answer = \"\"\n",
    "        elif len(filtered3_answers) == 1:\n",
    "            one_ans += 1\n",
    "            gold_answer = filtered3_answers[0]\n",
    "        elif len(filtered3_answers) > 1:\n",
    "            more_than_one_ans += 1\n",
    "            #If we have multiple possible answer after all the filter, the final gold option is the one with the lowest score\n",
    "            dict_temp = {}\n",
    "            for answer in filtered3_answers:\n",
    "                dict_temp[answer] = summary_score[answer]\n",
    "            #If same score, we pick the first one\n",
    "            gold_answer = min(dict_temp, key=dict_temp.get)\n",
    "\n",
    "        # f.write(\"Summary used : {} \\n\".format(summary))\n",
    "        # f.write(\"id of the summary : {} \\n\".format(id_doc))\n",
    "        # f.write(\"{} \\n\".format(summary_score))\n",
    "        # f.write(\"First batch of answers after NS Score filtering : {} \\n\".format(answers))\n",
    "        # f.write(\"Second batch of answers after Lemma filter : {} \\n\".format(filtered1_answers))\n",
    "        # f.write(\"Third batch of answers after Synonym/Antomym filter : {} \\n\".format(filtered2_answers))\n",
    "        # f.write(\"Fourth batch of answers after Similarity filter : {} \\n\".format(filtered3_answers))\n",
    "        # f.write(\"The gold answer kept for this summary is : {} \\r\\n\".format(gold_answer))\n",
    "        gold_answers.append(gold_answer)\n",
    "    print(\"After filtering {} summaries, there are :\\n{} with no possible gold answer,\\n{} with one possible golden answer,\\n{} with more than one possible golden answer\".format(nb_summaries, no_ans, one_ans, more_than_one_ans))\n",
    "    return gold_answers"
   ]
  },
  {
   "cell_type": "code",
   "execution_count": 20,
   "id": "ca922baa-1604-4826-9c5d-53c663e035e4",
   "metadata": {},
   "outputs": [
    {
     "name": "stderr",
     "output_type": "stream",
     "text": [
      "Using custom data configuration default\n",
      "Reusing dataset xsum (/home/willy/.cache/huggingface/datasets/xsum/default/1.2.0/4957825a982999fbf80bca0b342793b01b2611e021ef589fb7c6250b3577b499)\n"
     ]
    },
    {
     "name": "stdout",
     "output_type": "stream",
     "text": [
      "After filtering 100 summaries, there are :\n",
      "75 with no possible golden answer,\n",
      "20 with one possible golden answer,\n",
      "5 with more than one possible golden answer\n",
      "Time elapsed:  21.86880350112915\n"
     ]
    }
   ],
   "source": [
    "import time\n",
    "with open(\"output_oracle_subtask2.txt\", \"w+\") as f:\n",
    "    t0= time.time()\n",
    "    gold_answers = main()\n",
    "    t1 = time.time() - t0\n",
    "print(\"Time elapsed: \", t1)\n"
   ]
  },
  {
   "cell_type": "code",
   "execution_count": null,
   "id": "64d3a079-cd09-41b7-b16c-14df234eab38",
   "metadata": {},
   "outputs": [
    {
     "name": "stderr",
     "output_type": "stream",
     "text": [
      "Using custom data configuration default\n",
      "Reusing dataset xsum (/home/willy/.cache/huggingface/datasets/xsum/default/1.2.0/4957825a982999fbf80bca0b342793b01b2611e021ef589fb7c6250b3577b499)\n"
     ]
    }
   ],
   "source": [
    "gold_answers = main()\n",
    "with open(\"gold_answers.txt\", \"w+\") as f:\n",
    "    f.write(str(gold_answers))"
   ]
  },
  {
   "cell_type": "code",
   "execution_count": 29,
   "id": "f130ff8c-f19e-4942-b16a-d7e76a783f04",
   "metadata": {},
   "outputs": [],
   "source": [
    "with open(\"gold_answers.txt\", \"w+\") as f:\n",
    "    f.write(str(gold_answers))"
   ]
  },
  {
   "cell_type": "code",
   "execution_count": null,
   "id": "c0fdd210-e323-4135-875e-1b3e26cc9ed7",
   "metadata": {},
   "outputs": [],
   "source": []
  }
 ],
 "metadata": {
  "kernelspec": {
   "display_name": "Python 3 (ipykernel)",
   "language": "python",
   "name": "python3"
  },
  "language_info": {
   "codemirror_mode": {
    "name": "ipython",
    "version": 3
   },
   "file_extension": ".py",
   "mimetype": "text/x-python",
   "name": "python",
   "nbconvert_exporter": "python",
   "pygments_lexer": "ipython3",
   "version": "3.8.8"
  }
 },
 "nbformat": 4,
 "nbformat_minor": 5
}
